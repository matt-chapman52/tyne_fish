{
 "cells": [
  {
   "attachments": {},
   "cell_type": "markdown",
   "metadata": {},
   "source": [
    "# River Tyne Fish Counts\n",
    "\n",
    "Monthly and Daily analysis of Salmon and Sea Trout at Riding Mill fish counter on the River Tyne"
   ]
  },
  {
   "cell_type": "code",
   "execution_count": 2,
   "metadata": {},
   "outputs": [],
   "source": [
    "import pandas as pd\n",
    "import numpy as np\n",
    "import seaborn  as sns\n",
    "import matplotlib.pyplot as plt\n"
   ]
  },
  {
   "cell_type": "code",
   "execution_count": null,
   "metadata": {},
   "outputs": [],
   "source": [
    "monthly_data = pd.read_csv('data/monthly_fish_count_2021.csv')\n",
    "monthly_data.head()"
   ]
  }
 ],
 "metadata": {
  "kernelspec": {
   "display_name": "WM354",
   "language": "python",
   "name": "python3"
  },
  "language_info": {
   "codemirror_mode": {
    "name": "ipython",
    "version": 3
   },
   "file_extension": ".py",
   "mimetype": "text/x-python",
   "name": "python",
   "nbconvert_exporter": "python",
   "pygments_lexer": "ipython3",
   "version": "3.8.13"
  },
  "orig_nbformat": 4,
  "vscode": {
   "interpreter": {
    "hash": "712b20f7a1ca2cf9287a67eb65273af943bd0823ef572c6747ad8c302132719e"
   }
  }
 },
 "nbformat": 4,
 "nbformat_minor": 2
}
